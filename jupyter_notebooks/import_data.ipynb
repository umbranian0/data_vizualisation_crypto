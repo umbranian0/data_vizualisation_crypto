{
 "cells": [
  {
   "cell_type": "code",
   "execution_count": 6,
   "id": "f35b264b-e2c5-4d30-8685-fc0c93f0249b",
   "metadata": {},
   "outputs": [
    {
     "name": "stdout",
     "output_type": "stream",
     "text": [
      "Requirement already satisfied: pandas-profiling in d:\\programs\\anaconda\\lib\\site-packages (3.2.0)\n",
      "Requirement already satisfied: joblib~=1.1.0 in d:\\programs\\anaconda\\lib\\site-packages (from pandas-profiling) (1.1.1)\n",
      "Requirement already satisfied: scipy>=1.4.1 in d:\\programs\\anaconda\\lib\\site-packages (from pandas-profiling) (1.11.4)\n",
      "Requirement already satisfied: pandas!=1.0.0,!=1.0.1,!=1.0.2,!=1.1.0,>=0.25.3 in d:\\programs\\anaconda\\lib\\site-packages (from pandas-profiling) (2.1.4)\n",
      "Requirement already satisfied: matplotlib>=3.2.0 in d:\\programs\\anaconda\\lib\\site-packages (from pandas-profiling) (3.8.0)\n",
      "Requirement already satisfied: pydantic>=1.8.1 in d:\\programs\\anaconda\\lib\\site-packages (from pandas-profiling) (2.6.4)\n",
      "Requirement already satisfied: PyYAML>=5.0.0 in d:\\programs\\anaconda\\lib\\site-packages (from pandas-profiling) (6.0.1)\n",
      "Requirement already satisfied: jinja2>=2.11.1 in d:\\programs\\anaconda\\lib\\site-packages (from pandas-profiling) (3.1.3)\n",
      "Requirement already satisfied: markupsafe~=2.1.1 in d:\\programs\\anaconda\\lib\\site-packages (from pandas-profiling) (2.1.3)\n",
      "Requirement already satisfied: visions==0.7.4 in d:\\programs\\anaconda\\lib\\site-packages (from visions[type_image_path]==0.7.4->pandas-profiling) (0.7.4)\n",
      "Requirement already satisfied: numpy>=1.16.0 in d:\\programs\\anaconda\\lib\\site-packages (from pandas-profiling) (1.24.3)\n",
      "Requirement already satisfied: htmlmin>=0.1.12 in d:\\programs\\anaconda\\lib\\site-packages (from pandas-profiling) (0.1.12)\n",
      "Requirement already satisfied: missingno>=0.4.2 in d:\\programs\\anaconda\\lib\\site-packages (from pandas-profiling) (0.5.2)\n",
      "Requirement already satisfied: phik>=0.11.1 in d:\\programs\\anaconda\\lib\\site-packages (from pandas-profiling) (0.12.4)\n",
      "Requirement already satisfied: tangled-up-in-unicode==0.2.0 in d:\\programs\\anaconda\\lib\\site-packages (from pandas-profiling) (0.2.0)\n",
      "Requirement already satisfied: requests>=2.24.0 in d:\\programs\\anaconda\\lib\\site-packages (from pandas-profiling) (2.31.0)\n",
      "Requirement already satisfied: tqdm>=4.48.2 in d:\\programs\\anaconda\\lib\\site-packages (from pandas-profiling) (4.65.0)\n",
      "Requirement already satisfied: seaborn>=0.10.1 in d:\\programs\\anaconda\\lib\\site-packages (from pandas-profiling) (0.12.2)\n",
      "Requirement already satisfied: multimethod>=1.4 in d:\\programs\\anaconda\\lib\\site-packages (from pandas-profiling) (1.11.2)\n",
      "Requirement already satisfied: attrs>=19.3.0 in d:\\programs\\anaconda\\lib\\site-packages (from visions==0.7.4->visions[type_image_path]==0.7.4->pandas-profiling) (23.1.0)\n",
      "Requirement already satisfied: networkx>=2.4 in d:\\programs\\anaconda\\lib\\site-packages (from visions==0.7.4->visions[type_image_path]==0.7.4->pandas-profiling) (3.1)\n",
      "Requirement already satisfied: imagehash in d:\\programs\\anaconda\\lib\\site-packages (from visions[type_image_path]==0.7.4->pandas-profiling) (4.3.1)\n",
      "Requirement already satisfied: Pillow in d:\\programs\\anaconda\\lib\\site-packages (from visions[type_image_path]==0.7.4->pandas-profiling) (10.2.0)\n",
      "Requirement already satisfied: contourpy>=1.0.1 in d:\\programs\\anaconda\\lib\\site-packages (from matplotlib>=3.2.0->pandas-profiling) (1.2.0)\n",
      "Requirement already satisfied: cycler>=0.10 in d:\\programs\\anaconda\\lib\\site-packages (from matplotlib>=3.2.0->pandas-profiling) (0.11.0)\n",
      "Requirement already satisfied: fonttools>=4.22.0 in d:\\programs\\anaconda\\lib\\site-packages (from matplotlib>=3.2.0->pandas-profiling) (4.25.0)\n",
      "Requirement already satisfied: kiwisolver>=1.0.1 in d:\\programs\\anaconda\\lib\\site-packages (from matplotlib>=3.2.0->pandas-profiling) (1.4.4)\n",
      "Requirement already satisfied: packaging>=20.0 in d:\\programs\\anaconda\\lib\\site-packages (from matplotlib>=3.2.0->pandas-profiling) (23.1)\n",
      "Requirement already satisfied: pyparsing>=2.3.1 in d:\\programs\\anaconda\\lib\\site-packages (from matplotlib>=3.2.0->pandas-profiling) (3.0.9)\n",
      "Requirement already satisfied: python-dateutil>=2.7 in d:\\programs\\anaconda\\lib\\site-packages (from matplotlib>=3.2.0->pandas-profiling) (2.8.2)\n",
      "Requirement already satisfied: pytz>=2020.1 in d:\\programs\\anaconda\\lib\\site-packages (from pandas!=1.0.0,!=1.0.1,!=1.0.2,!=1.1.0,>=0.25.3->pandas-profiling) (2023.3.post1)\n",
      "Requirement already satisfied: tzdata>=2022.1 in d:\\programs\\anaconda\\lib\\site-packages (from pandas!=1.0.0,!=1.0.1,!=1.0.2,!=1.1.0,>=0.25.3->pandas-profiling) (2023.3)\n",
      "Requirement already satisfied: annotated-types>=0.4.0 in d:\\programs\\anaconda\\lib\\site-packages (from pydantic>=1.8.1->pandas-profiling) (0.6.0)\n",
      "Requirement already satisfied: pydantic-core==2.16.3 in d:\\programs\\anaconda\\lib\\site-packages (from pydantic>=1.8.1->pandas-profiling) (2.16.3)\n",
      "Collecting typing-extensions>=4.6.1 (from pydantic>=1.8.1->pandas-profiling)\n",
      "  Using cached typing_extensions-4.11.0-py3-none-any.whl.metadata (3.0 kB)\n",
      "Requirement already satisfied: charset-normalizer<4,>=2 in d:\\programs\\anaconda\\lib\\site-packages (from requests>=2.24.0->pandas-profiling) (2.0.4)\n",
      "Requirement already satisfied: idna<4,>=2.5 in d:\\programs\\anaconda\\lib\\site-packages (from requests>=2.24.0->pandas-profiling) (3.4)\n",
      "Requirement already satisfied: urllib3<3,>=1.21.1 in d:\\programs\\anaconda\\lib\\site-packages (from requests>=2.24.0->pandas-profiling) (2.0.7)\n",
      "Requirement already satisfied: certifi>=2017.4.17 in d:\\programs\\anaconda\\lib\\site-packages (from requests>=2.24.0->pandas-profiling) (2024.2.2)\n",
      "Requirement already satisfied: colorama in d:\\programs\\anaconda\\lib\\site-packages (from tqdm>=4.48.2->pandas-profiling) (0.4.6)\n",
      "Requirement already satisfied: six>=1.5 in d:\\programs\\anaconda\\lib\\site-packages (from python-dateutil>=2.7->matplotlib>=3.2.0->pandas-profiling) (1.16.0)\n",
      "Requirement already satisfied: PyWavelets in d:\\programs\\anaconda\\lib\\site-packages (from imagehash->visions[type_image_path]==0.7.4->pandas-profiling) (1.5.0)\n",
      "Using cached typing_extensions-4.11.0-py3-none-any.whl (34 kB)\n",
      "Installing collected packages: typing-extensions\n",
      "  Attempting uninstall: typing-extensions\n",
      "    Found existing installation: typing_extensions 4.5.0\n",
      "    Uninstalling typing_extensions-4.5.0:\n",
      "      Successfully uninstalled typing_extensions-4.5.0\n",
      "Successfully installed typing-extensions-4.11.0\n"
     ]
    },
    {
     "name": "stderr",
     "output_type": "stream",
     "text": [
      "ERROR: pip's dependency resolver does not currently take into account all the packages that are installed. This behaviour is the source of the following dependency conflicts.\n",
      "tensorflow-intel 2.13.1 requires typing-extensions<4.6.0,>=3.6.6, but you have typing-extensions 4.11.0 which is incompatible.\n",
      "ydata-profiling 4.7.0 requires visions[type_image_path]<0.7.7,>=0.7.5, but you have visions 0.7.4 which is incompatible.\n"
     ]
    }
   ],
   "source": [
    "import matplotlib.pyplot as plt\n",
    "import pandas as pd\n",
    "!pip install pandas-profiling"
   ]
  },
  {
   "cell_type": "code",
   "execution_count": 14,
   "id": "ea0cb273-bd3a-499c-8d1c-3eea6b5c225d",
   "metadata": {},
   "outputs": [
    {
     "name": "stdout",
     "output_type": "stream",
     "text": [
      "                                                  title  score       id  \\\n",
      "0     Can someone help explain to me how and why a l...      1   zpi5h0   \n",
      "1                                      Bitcoin is King…      2   zphp0p   \n",
      "2     The FTX disaster has set back crypto by ‘years...      0   zphb0d   \n",
      "3     Will the loss of more Bitcoins over time resul...      5   zph6iu   \n",
      "4     Experts Say Sam Bankman-Fried's Best Legal Def...     21   zph0z1   \n",
      "...                                                 ...    ...      ...   \n",
      "1892                                            Comment      2  j0rhm8f   \n",
      "1893                                            Comment      1  j0rhlkg   \n",
      "1894                                            Comment      1  j0rhkif   \n",
      "1895                                            Comment      3  j0rhjds   \n",
      "1896                                            Comment      1  j0rhig2   \n",
      "\n",
      "                                                    url  comms_num  \\\n",
      "0     https://www.reddit.com/r/Bitcoin/comments/zpi5...          0   \n",
      "1     https://www.reddit.com/r/Bitcoin/comments/zphp...          4   \n",
      "2     https://www.reddit.com/r/Bitcoin/comments/zphb...          9   \n",
      "3     https://www.reddit.com/r/Bitcoin/comments/zph6...          6   \n",
      "4     https://futurism.com/the-byte/sbf-ftx-legal-de...          8   \n",
      "...                                                 ...        ...   \n",
      "1892                                                NaN          0   \n",
      "1893                                                NaN          0   \n",
      "1894                                                NaN          0   \n",
      "1895                                                NaN          0   \n",
      "1896                                                NaN          0   \n",
      "\n",
      "           created                                               body  \\\n",
      "0     1.671425e+09  [https://mempool.space/block/00000000000000000...   \n",
      "1     1.671424e+09  Once you understand #bitcoin and truly underst...   \n",
      "2     1.671422e+09  As reported by [CNBC](https://www.cnbc.com/202...   \n",
      "3     1.671422e+09  As more people accept Bitcoin and more Bitcoin...   \n",
      "4     1.671422e+09                                                NaN   \n",
      "...            ...                                                ...   \n",
      "1892  1.671399e+09                               I would be LIVID!!!!   \n",
      "1893  1.671399e+09  Homie doesn’t know how the bank works. \\nHomie...   \n",
      "1894  1.671399e+09               He's using muun wallet, wonderful 👍👍   \n",
      "1895  1.671399e+09  Sure it's not practical, and I think that it's...   \n",
      "1896  1.671399e+09  Merchant passing through scheme fee to you, th...   \n",
      "\n",
      "                timestamp  \n",
      "0     2022-12-19 06:43:02  \n",
      "1     2022-12-19 06:19:25  \n",
      "2     2022-12-19 05:59:53  \n",
      "3     2022-12-19 05:53:33  \n",
      "4     2022-12-19 05:45:47  \n",
      "...                   ...  \n",
      "1892  2022-12-18 23:32:42  \n",
      "1893  2022-12-18 23:32:34  \n",
      "1894  2022-12-18 23:32:22  \n",
      "1895  2022-12-18 23:32:09  \n",
      "1896  2022-12-18 23:31:59  \n",
      "\n",
      "[1897 rows x 8 columns] ['../src/fase1_Bitcoin_prices.csv'] ['../src/fase1_cryptonews.csv']\n"
     ]
    },
    {
     "data": {
      "image/png": "[encoded data removed]",
      "text/plain": [
       "<Figure size 640x480 with 1 Axes>"
      ]
     },
     "metadata": {},
     "output_type": "display_data"
    }
   ],
   "source": [
    "# List of file names\n",
    "file_names = [\n",
    "    \"../src/fase1_Bitcoin.csv\",\n",
    "    \"../src/fase1_cryptonews.csv\",\n",
    "    \"../src/fase1_Bitcoin_prices.csv\"\n",
    "]\n",
    "\n",
    "# Dictionary to store dataframes\n",
    "dfs = {}\n",
    "\n",
    "# Import each CSV file into a dataframe and store it in the dictionary\n",
    "for file_name in file_names:\n",
    "    df = pd.read_csv(file_name)\n",
    "    # Store the dataframe with a key based on the file name\n",
    "    dfs[file_name] = df\n",
    "\n",
    "# Accessing the dataframes\n",
    "# For example, to access the dataframe from olist_orders_dataset.csv\n",
    "print(dfs[\"../src/fase1_Bitcoin.csv\"],\n",
    "    [\"../src/fase1_Bitcoin_prices.csv\"],\n",
    "    [\"../src/fase1_cryptonews.csv\"])\n",
    "\n",
    "# Example visualization\n",
    "# Plotting a histogram of order payment values\n",
    "#title,score,id,url,comms_num,created,body,timestamp\n",
    "crypto_news_df = dfs[\"../src/fase1_cryptonews.csv\"]\n",
    "#transform sentiment from object\n",
    "crypto_news_df.loc[0, 'sentiment']\n",
    "\n",
    "def get_sentiment_verdict(data):\n",
    "    data = eval(data)\n",
    "    return data['class']\n",
    "\n",
    "crypto_news_df['sentiment'] = crypto_news_df['sentiment'].apply(get_sentiment_verdict)\n",
    "\n",
    "\n",
    "## histogram\n",
    "\n",
    "plt.hist(crypto_news_df[\"sentiment\"], bins=30, color='skyblue', edgecolor='black')\n",
    "\n",
    "plt.xlabel('Sentiment')\n",
    "plt.ylabel('Frequency')\n",
    "plt.title('Histogram of Order Payment Values')\n",
    "plt.show()\n"
   ]
  },
  {
   "cell_type": "code",
   "execution_count": 15,
   "id": "7cae2777-2f34-4756-a5c1-d70cec37fed1",
   "metadata": {},
   "outputs": [
    {
     "name": "stdout",
     "output_type": "stream",
     "text": [
      "Collecting vaderSentiment\n",
      "  Downloading vaderSentiment-3.3.2-py2.py3-none-any.whl.metadata (572 bytes)\n",
      "Requirement already satisfied: requests in d:\\programs\\anaconda\\lib\\site-packages (from vaderSentiment) (2.31.0)\n",
      "Requirement already satisfied: charset-normalizer<4,>=2 in d:\\programs\\anaconda\\lib\\site-packages (from requests->vaderSentiment) (2.0.4)\n",
      "Requirement already satisfied: idna<4,>=2.5 in d:\\programs\\anaconda\\lib\\site-packages (from requests->vaderSentiment) (3.4)\n",
      "Requirement already satisfied: urllib3<3,>=1.21.1 in d:\\programs\\anaconda\\lib\\site-packages (from requests->vaderSentiment) (2.0.7)\n",
      "Requirement already satisfied: certifi>=2017.4.17 in d:\\programs\\anaconda\\lib\\site-packages (from requests->vaderSentiment) (2024.2.2)\n",
      "Downloading vaderSentiment-3.3.2-py2.py3-none-any.whl (125 kB)\n",
      "   ---------------------------------------- 0.0/126.0 kB ? eta -:--:--\n",
      "   --- ------------------------------------ 10.2/126.0 kB ? eta -:--:--\n",
      "   ----------------------------- ---------- 92.2/126.0 kB 1.3 MB/s eta 0:00:01\n",
      "   ---------------------------------------- 126.0/126.0 kB 1.9 MB/s eta 0:00:00\n",
      "Installing collected packages: vaderSentiment\n",
      "Successfully installed vaderSentiment-3.3.2\n"
     ]
    }
   ],
   "source": [
    "! pip install vaderSentiment"
   ]
  },
  {
   "cell_type": "code",
   "execution_count": 1,
   "id": "f3676032-49b7-4368-9fd0-ac6a4026cc36",
   "metadata": {},
   "outputs": [
    {
     "name": "stdout",
     "output_type": "stream",
     "text": [
      "../src/Bitcoin_tweets.csv\n",
      "../src/Bitcoin_tweets_dataset_2.csv\n",
      "../src/fase1_Bitcoin.csv\n",
      "../src/fase1_Bitcoin_prices.csv\n",
      "../src/fase1_cryptonews.csv\n",
      "../src/fase2_btc-results.csv\n",
      "../src/fase2_BTC_Footprints_v1.xlsx\n",
      "../src/fase2_miner-devices.csv\n"
     ]
    }
   ],
   "source": [
    "from time import sleep\n",
    "import json\n",
    "import pandas as pd\n",
    "import io\n",
    "import re\n",
    "import numpy as np\n",
    "from tqdm import tqdm\n",
    "import pandas as pd\n",
    "from vaderSentiment.vaderSentiment import SentimentIntensityAnalyzer\n",
    "from tqdm import tnrange, tqdm_notebook, tqdm\n",
    "\n",
    "from sklearn import preprocessing\n",
    "import matplotlib.pyplot as plt\n",
    "# from plotly.offline import init_notebook_mode, iplot\n",
    "# import plotly.graph_objs as go\n",
    "# init_notebook_mode(connected=True)\n",
    "import numpy as np # linear algebra\n",
    "import pandas as pd # data processing, CSV file I/O (e.g. pd.read_csv)\n",
    "\n",
    "# Input data files are available in the read-only \"../input/\" directory\n",
    "# For example, running this (by clicking run or pressing Shift+Enter) will list all files under the input directory\n",
    "\n",
    "import os\n",
    "for dirname, _, filenames in os.walk('../src/'):\n",
    "    for filename in filenames:\n",
    "        print(os.path.join(dirname, filename))"
   ]
  },
  {
   "cell_type": "code",
   "execution_count": 2,
   "id": "ab6f20c8-c73c-4b8f-84dd-715b9d709f65",
   "metadata": {},
   "outputs": [],
   "source": [
    "tweets_raw_file   = '../src/Bitcoin_tweets_dataset_2.csv'\n",
    "tweets_clean_file = '../src/Bitcoin_tweets_clean.csv'\n",
    "bit_price_file2 = '../src/fase1_Bitcoin_prices.csv'"
   ]
  },
  {
   "cell_type": "code",
   "execution_count": 7,
   "id": "6841676c-9400-43f0-86dd-657e977acc5f",
   "metadata": {},
   "outputs": [
    {
     "name": "stdout",
     "output_type": "stream",
     "text": [
      "ParserError: Error tokenizing data. C error: Buffer overflow caught - possible malformed input file.\n",
      "\n"
     ]
    }
   ],
   "source": [
    "try:\n",
    "    # Attempt to read the CSV file\n",
    "    df_raw = pd.read_csv(tweets_raw_file, low_memory=True)\n",
    "    \n",
    "    # Print the shape and first few rows of the DataFrame\n",
    "    print(df_raw.shape)\n",
    "    print(df_raw.head(5))\n",
    "    \n",
    "    # Further data processing or analysis\n",
    "    \n",
    "except pd.errors.ParserError as e:\n",
    "    # Handle the ParserError\n",
    "    print(\"ParserError:\", e)"
   ]
  },
  {
   "cell_type": "code",
   "execution_count": null,
   "id": "e44f1d95-1b32-476e-97b1-01c45d5ee01a",
   "metadata": {},
   "outputs": [],
   "source": []
  },
  {
   "cell_type": "code",
   "execution_count": null,
   "id": "1a8d7a98-1dc1-45bc-8f84-4af9c651fd29",
   "metadata": {},
   "outputs": [],
   "source": []
  }
 ],
 "metadata": {
  "kernelspec": {
   "display_name": "Python 3 (ipykernel)",
   "language": "python",
   "name": "python3"
  },
  "language_info": {
   "codemirror_mode": {
    "name": "ipython",
    "version": 3
   },
   "file_extension": ".py",
   "mimetype": "text/x-python",
   "name": "python",
   "nbconvert_exporter": "python",
   "pygments_lexer": "ipython3",
   "version": "3.11.7"
  }
 },
 "nbformat": 4,
 "nbformat_minor": 5
}
